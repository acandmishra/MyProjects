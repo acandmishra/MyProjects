{
 "cells": [
  {
   "cell_type": "code",
   "execution_count": 1,
   "metadata": {},
   "outputs": [
    {
     "name": "stdout",
     "output_type": "stream",
     "text": [
      "[0, 1, 2, 3, 4, 5, 6, 7, 8]\n"
     ]
    }
   ],
   "source": [
    "space = [(0,1,2),(3,4,5),(6,7,8),(0,3,6),(1,4,7),(2,5,8),(0,4,8),(2,4,6)]\n",
    "map = [0,1,2,3,4,5,6,7,8]\n",
    "print(map)\n"
   ]
  },
  {
   "cell_type": "code",
   "execution_count": 2,
   "metadata": {},
   "outputs": [
    {
     "name": "stdout",
     "output_type": "stream",
     "text": [
      "welcome to the tic tac toe\n",
      "symbol for B is:X\n"
     ]
    }
   ],
   "source": [
    "print(\"welcome to the tic tac toe\")\n",
    "if(input(\"A enter your symbol (X/O):\")==\"X\"):\n",
    "    print(\"symbol for B is:O\")\n",
    "    S1=\"X\"\n",
    "    S2=\"O\"\n",
    "else:\n",
    "    print(\"symbol for B is:X\")\n",
    "    S1=\"O\"\n",
    "    S2=\"X\"\n",
    "A=set({})\n",
    "B=set({})\n",
    "def check(player,super):\n",
    "    for i in super:\n",
    "        if((i in player)==True):\n",
    "            print(f\"Winner is->{player}\")"
   ]
  },
  {
   "cell_type": "code",
   "execution_count": 3,
   "metadata": {},
   "outputs": [
    {
     "name": "stdout",
     "output_type": "stream",
     "text": [
      "chance of A\n",
      "['O', 1, 2, 3, 4, 5, 6, 7, 8]\n",
      "chance of B\n",
      "['O', 1, 'X', 3, 4, 5, 6, 7, 8]\n",
      "chance of A\n",
      "['O', 1, 'X', 3, 'O', 5, 6, 7, 8]\n",
      "chance of B\n",
      "['O', 'X', 'X', 3, 'O', 5, 6, 7, 8]\n",
      "chance of A\n",
      "['O', 'X', 'X', 3, 'O', 5, 6, 7, 'O']\n",
      "chance of B\n",
      "['O', 'X', 'X', 3, 'O', 'X', 6, 7, 'O']\n",
      "chance of A\n"
     ]
    }
   ],
   "source": [
    "for i in range(1,8):\n",
    "    print(\"chance of A\")\n",
    "    a=int(input(\"enter your index:\"))\n",
    "    map[a]=S1\n",
    "    A.add(a)\n",
    "    if i>=3:\n",
    "        check(A,space)\n",
    "    print(map)\n",
    "    print(\"chance of B\")\n",
    "    b=int(input(\"enter your index:\"))\n",
    "    map[b]=S2\n",
    "    B.add(b)\n",
    "    if i>=3:\n",
    "        check(B,space)\n",
    "    print(map)"
   ]
  },
  {
   "cell_type": "code",
   "execution_count": null,
   "metadata": {},
   "outputs": [],
   "source": []
  }
 ],
 "metadata": {
  "kernelspec": {
   "display_name": "Python 3",
   "language": "python",
   "name": "python3"
  },
  "language_info": {
   "codemirror_mode": {
    "name": "ipython",
    "version": 3
   },
   "file_extension": ".py",
   "mimetype": "text/x-python",
   "name": "python",
   "nbconvert_exporter": "python",
   "pygments_lexer": "ipython3",
   "version": "3.11.1 (tags/v3.11.1:a7a450f, Dec  6 2022, 19:58:39) [MSC v.1934 64 bit (AMD64)]"
  },
  "orig_nbformat": 4,
  "vscode": {
   "interpreter": {
    "hash": "f3af22d0f46945ff38ecbdce64924e7a82a2af8f15cbbc443b4ed24fda294c28"
   }
  }
 },
 "nbformat": 4,
 "nbformat_minor": 2
}
